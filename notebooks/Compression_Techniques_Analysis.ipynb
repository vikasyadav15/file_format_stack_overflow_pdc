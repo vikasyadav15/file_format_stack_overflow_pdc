{
 "cells": [
  {
   "cell_type": "code",
   "execution_count": 1,
   "metadata": {
    "collapsed": false,
    "deletable": true,
    "editable": true,
    "slideshow": {
     "slide_type": "fragment"
    }
   },
   "outputs": [
    {
     "data": {
      "text/html": [
       "<script>requirejs.config({paths: { 'plotly': ['https://cdn.plot.ly/plotly-latest.min']},});if(!window.Plotly) {{require(['plotly'],function(plotly) {window.Plotly=plotly;});}}</script>"
      ],
      "text/vnd.plotly.v1+html": [
       "<script>requirejs.config({paths: { 'plotly': ['https://cdn.plot.ly/plotly-latest.min']},});if(!window.Plotly) {{require(['plotly'],function(plotly) {window.Plotly=plotly;});}}</script>"
      ]
     },
     "metadata": {},
     "output_type": "display_data"
    }
   ],
   "source": [
    "import os \n",
    "import MySQLdb\n",
    "import pandas as pd\n",
    "from plotly.offline import download_plotlyjs, init_notebook_mode, iplot\n",
    "from plotly.graph_objs import *\n",
    "import plotly.plotly as py\n",
    "import plotly.graph_objs as go\n",
    "import cufflinks as cf\n",
    "import pandas as pd\n",
    "import numpy as np\n",
    "USER = os.getenv('USER_MYSQL')\n",
    "PASSWORD=os.getenv('PASSWORD')\n",
    "HOST=os.getenv('host')\n",
    "init_notebook_mode(connected=True)"
   ]
  },
  {
   "cell_type": "code",
   "execution_count": 2,
   "metadata": {
    "collapsed": true,
    "deletable": true,
    "editable": true,
    "slideshow": {
     "slide_type": "skip"
    }
   },
   "outputs": [],
   "source": [
    "\n",
    "conn = MySQLdb.connect(host=HOST, user=USER, passwd=PASSWORD, db=\"stackoverflow\")"
   ]
  },
  {
   "cell_type": "code",
   "execution_count": 3,
   "metadata": {
    "collapsed": false,
    "deletable": true,
    "editable": true,
    "slideshow": {
     "slide_type": "slide"
    }
   },
   "outputs": [
    {
     "data": {
      "text/html": [
       "<div>\n",
       "<table border=\"1\" class=\"dataframe\">\n",
       "  <thead>\n",
       "    <tr style=\"text-align: right;\">\n",
       "      <th></th>\n",
       "      <th>TABLENAME</th>\n",
       "      <th>TABLECOUNT</th>\n",
       "      <th>DATA_SIZE_IN_SOURCE_IN_GB</th>\n",
       "      <th>DATA_SIZE_IN_SOURCE_IN_MB</th>\n",
       "      <th>TEXT_FILE_SIZE_IN_GB</th>\n",
       "      <th>TEXT_FILE_SIZE_IN_MB</th>\n",
       "      <th>GZ_FILE_SIZE_IN_GB</th>\n",
       "      <th>GZ_FILE_SIZE_IN_MB</th>\n",
       "      <th>ORC_ZLIB_FILE_SIZE_IN_GB</th>\n",
       "      <th>ORC_ZLIB_FILE_SIZE_IN_MB</th>\n",
       "      <th>ORC_SNAPPY_FILE_SIZE_IN_GB</th>\n",
       "      <th>ORC_SNAPPY_FILE_SIZE_IN_MB</th>\n",
       "      <th>parquet_FILE_SIZE_IN_GB</th>\n",
       "      <th>parquet_FILE_SIZE_IN_MB</th>\n",
       "      <th>WRITE_TIME_TEXT_SECS</th>\n",
       "      <th>WRITE_TIME_GZ_SECS</th>\n",
       "      <th>WRITE_TIME_ORC_ZLIB_SECS</th>\n",
       "      <th>WRITE_TIME_ORC_SNAPPY_SECS</th>\n",
       "      <th>WRITE_TIME_PARQUET_SECS</th>\n",
       "    </tr>\n",
       "  </thead>\n",
       "  <tbody>\n",
       "    <tr>\n",
       "      <th>0</th>\n",
       "      <td>Votes</td>\n",
       "      <td>122641215</td>\n",
       "      <td>4.130</td>\n",
       "      <td>4229.120</td>\n",
       "      <td>5.9252</td>\n",
       "      <td>6067.4048</td>\n",
       "      <td>0.86566</td>\n",
       "      <td>886.43379</td>\n",
       "      <td>0.44671</td>\n",
       "      <td>457.42715</td>\n",
       "      <td>0.55585</td>\n",
       "      <td>555.8505</td>\n",
       "      <td>0.98382</td>\n",
       "      <td>1007.42656</td>\n",
       "      <td>174.77</td>\n",
       "      <td>433.66</td>\n",
       "      <td>1524.22</td>\n",
       "      <td>1424.22</td>\n",
       "      <td>1178.81</td>\n",
       "    </tr>\n",
       "    <tr>\n",
       "      <th>1</th>\n",
       "      <td>Comments</td>\n",
       "      <td>55852373</td>\n",
       "      <td>10.120</td>\n",
       "      <td>10362.880</td>\n",
       "      <td>10.4058</td>\n",
       "      <td>10655.5392</td>\n",
       "      <td>4.00660</td>\n",
       "      <td>4102.75840</td>\n",
       "      <td>3.99440</td>\n",
       "      <td>4090.26560</td>\n",
       "      <td>5.73080</td>\n",
       "      <td>5730.8000</td>\n",
       "      <td>6.08500</td>\n",
       "      <td>6231.04000</td>\n",
       "      <td>485.35</td>\n",
       "      <td>615.37</td>\n",
       "      <td>536.07</td>\n",
       "      <td>526.07</td>\n",
       "      <td>604.54</td>\n",
       "    </tr>\n",
       "    <tr>\n",
       "      <th>2</th>\n",
       "      <td>Posts</td>\n",
       "      <td>34857917</td>\n",
       "      <td>56.920</td>\n",
       "      <td>58286.080</td>\n",
       "      <td>41.5000</td>\n",
       "      <td>42496.0000</td>\n",
       "      <td>12.66800</td>\n",
       "      <td>12972.03200</td>\n",
       "      <td>13.61160</td>\n",
       "      <td>13938.27840</td>\n",
       "      <td>19.07620</td>\n",
       "      <td>19076.2000</td>\n",
       "      <td>19.57950</td>\n",
       "      <td>20049.40800</td>\n",
       "      <td>1028.54</td>\n",
       "      <td>1141.32</td>\n",
       "      <td>4505.02</td>\n",
       "      <td>4305.02</td>\n",
       "      <td>2492.03</td>\n",
       "    </tr>\n",
       "    <tr>\n",
       "      <th>3</th>\n",
       "      <td>Badges</td>\n",
       "      <td>21882067</td>\n",
       "      <td>1.100</td>\n",
       "      <td>1126.400</td>\n",
       "      <td>1.1683</td>\n",
       "      <td>1196.3392</td>\n",
       "      <td>0.18279</td>\n",
       "      <td>187.17850</td>\n",
       "      <td>0.08965</td>\n",
       "      <td>91.80180</td>\n",
       "      <td>0.10923</td>\n",
       "      <td>109.2334</td>\n",
       "      <td>0.20936</td>\n",
       "      <td>214.37993</td>\n",
       "      <td>56.47</td>\n",
       "      <td>150.49</td>\n",
       "      <td>593.76</td>\n",
       "      <td>513.76</td>\n",
       "      <td>463.93</td>\n",
       "    </tr>\n",
       "    <tr>\n",
       "      <th>4</th>\n",
       "      <td>PostHistory</td>\n",
       "      <td>12670472</td>\n",
       "      <td>10.580</td>\n",
       "      <td>10833.920</td>\n",
       "      <td>8.1571</td>\n",
       "      <td>8352.8704</td>\n",
       "      <td>2.59600</td>\n",
       "      <td>2658.30400</td>\n",
       "      <td>2.70480</td>\n",
       "      <td>2769.71520</td>\n",
       "      <td>3.88210</td>\n",
       "      <td>3882.1000</td>\n",
       "      <td>4.01530</td>\n",
       "      <td>4111.66720</td>\n",
       "      <td>517.01</td>\n",
       "      <td>244.79</td>\n",
       "      <td>420.07</td>\n",
       "      <td>400.07</td>\n",
       "      <td>475.60</td>\n",
       "    </tr>\n",
       "    <tr>\n",
       "      <th>5</th>\n",
       "      <td>Users</td>\n",
       "      <td>6833276</td>\n",
       "      <td>0.970</td>\n",
       "      <td>993.280</td>\n",
       "      <td>1.1117</td>\n",
       "      <td>1138.3808</td>\n",
       "      <td>0.33133</td>\n",
       "      <td>339.27987</td>\n",
       "      <td>0.27621</td>\n",
       "      <td>282.84180</td>\n",
       "      <td>0.39455</td>\n",
       "      <td>394.5527</td>\n",
       "      <td>0.41590</td>\n",
       "      <td>425.88457</td>\n",
       "      <td>59.65</td>\n",
       "      <td>60.58</td>\n",
       "      <td>68.96</td>\n",
       "      <td>65.96</td>\n",
       "      <td>152.10</td>\n",
       "    </tr>\n",
       "    <tr>\n",
       "      <th>6</th>\n",
       "      <td>PostLinks</td>\n",
       "      <td>3993516</td>\n",
       "      <td>0.150</td>\n",
       "      <td>153.600</td>\n",
       "      <td>0.1950</td>\n",
       "      <td>199.6800</td>\n",
       "      <td>0.05414</td>\n",
       "      <td>55.43690</td>\n",
       "      <td>0.04093</td>\n",
       "      <td>41.91570</td>\n",
       "      <td>0.05588</td>\n",
       "      <td>55.8800</td>\n",
       "      <td>0.06257</td>\n",
       "      <td>64.07229</td>\n",
       "      <td>79.49</td>\n",
       "      <td>99.08</td>\n",
       "      <td>138.84</td>\n",
       "      <td>136.84</td>\n",
       "      <td>53.38</td>\n",
       "    </tr>\n",
       "    <tr>\n",
       "      <th>7</th>\n",
       "      <td>Tags</td>\n",
       "      <td>48373</td>\n",
       "      <td>0.001</td>\n",
       "      <td>1.024</td>\n",
       "      <td>0.0070</td>\n",
       "      <td>7.1680</td>\n",
       "      <td>0.00075</td>\n",
       "      <td>0.76821</td>\n",
       "      <td>0.00061</td>\n",
       "      <td>0.62865</td>\n",
       "      <td>0.00083</td>\n",
       "      <td>0.8250</td>\n",
       "      <td>0.00111</td>\n",
       "      <td>1.13357</td>\n",
       "      <td>22.00</td>\n",
       "      <td>64.84</td>\n",
       "      <td>228.47</td>\n",
       "      <td>218.47</td>\n",
       "      <td>185.97</td>\n",
       "    </tr>\n",
       "  </tbody>\n",
       "</table>\n",
       "</div>"
      ],
      "text/plain": [
       "     TABLENAME  TABLECOUNT  DATA_SIZE_IN_SOURCE_IN_GB  \\\n",
       "0        Votes   122641215                      4.130   \n",
       "1     Comments    55852373                     10.120   \n",
       "2        Posts    34857917                     56.920   \n",
       "3       Badges    21882067                      1.100   \n",
       "4  PostHistory    12670472                     10.580   \n",
       "5        Users     6833276                      0.970   \n",
       "6    PostLinks     3993516                      0.150   \n",
       "7         Tags       48373                      0.001   \n",
       "\n",
       "   DATA_SIZE_IN_SOURCE_IN_MB  TEXT_FILE_SIZE_IN_GB  TEXT_FILE_SIZE_IN_MB  \\\n",
       "0                   4229.120                5.9252             6067.4048   \n",
       "1                  10362.880               10.4058            10655.5392   \n",
       "2                  58286.080               41.5000            42496.0000   \n",
       "3                   1126.400                1.1683             1196.3392   \n",
       "4                  10833.920                8.1571             8352.8704   \n",
       "5                    993.280                1.1117             1138.3808   \n",
       "6                    153.600                0.1950              199.6800   \n",
       "7                      1.024                0.0070                7.1680   \n",
       "\n",
       "   GZ_FILE_SIZE_IN_GB  GZ_FILE_SIZE_IN_MB  ORC_ZLIB_FILE_SIZE_IN_GB  \\\n",
       "0             0.86566           886.43379                   0.44671   \n",
       "1             4.00660          4102.75840                   3.99440   \n",
       "2            12.66800         12972.03200                  13.61160   \n",
       "3             0.18279           187.17850                   0.08965   \n",
       "4             2.59600          2658.30400                   2.70480   \n",
       "5             0.33133           339.27987                   0.27621   \n",
       "6             0.05414            55.43690                   0.04093   \n",
       "7             0.00075             0.76821                   0.00061   \n",
       "\n",
       "   ORC_ZLIB_FILE_SIZE_IN_MB  ORC_SNAPPY_FILE_SIZE_IN_GB  \\\n",
       "0                 457.42715                     0.55585   \n",
       "1                4090.26560                     5.73080   \n",
       "2               13938.27840                    19.07620   \n",
       "3                  91.80180                     0.10923   \n",
       "4                2769.71520                     3.88210   \n",
       "5                 282.84180                     0.39455   \n",
       "6                  41.91570                     0.05588   \n",
       "7                   0.62865                     0.00083   \n",
       "\n",
       "   ORC_SNAPPY_FILE_SIZE_IN_MB  parquet_FILE_SIZE_IN_GB  \\\n",
       "0                    555.8505                  0.98382   \n",
       "1                   5730.8000                  6.08500   \n",
       "2                  19076.2000                 19.57950   \n",
       "3                    109.2334                  0.20936   \n",
       "4                   3882.1000                  4.01530   \n",
       "5                    394.5527                  0.41590   \n",
       "6                     55.8800                  0.06257   \n",
       "7                      0.8250                  0.00111   \n",
       "\n",
       "   parquet_FILE_SIZE_IN_MB  WRITE_TIME_TEXT_SECS  WRITE_TIME_GZ_SECS  \\\n",
       "0               1007.42656                174.77              433.66   \n",
       "1               6231.04000                485.35              615.37   \n",
       "2              20049.40800               1028.54             1141.32   \n",
       "3                214.37993                 56.47              150.49   \n",
       "4               4111.66720                517.01              244.79   \n",
       "5                425.88457                 59.65               60.58   \n",
       "6                 64.07229                 79.49               99.08   \n",
       "7                  1.13357                 22.00               64.84   \n",
       "\n",
       "   WRITE_TIME_ORC_ZLIB_SECS  WRITE_TIME_ORC_SNAPPY_SECS  \\\n",
       "0                   1524.22                     1424.22   \n",
       "1                    536.07                      526.07   \n",
       "2                   4505.02                     4305.02   \n",
       "3                    593.76                      513.76   \n",
       "4                    420.07                      400.07   \n",
       "5                     68.96                       65.96   \n",
       "6                    138.84                      136.84   \n",
       "7                    228.47                      218.47   \n",
       "\n",
       "   WRITE_TIME_PARQUET_SECS  \n",
       "0                  1178.81  \n",
       "1                   604.54  \n",
       "2                  2492.03  \n",
       "3                   463.93  \n",
       "4                   475.60  \n",
       "5                   152.10  \n",
       "6                    53.38  \n",
       "7                   185.97  "
      ]
     },
     "execution_count": 3,
     "metadata": {},
     "output_type": "execute_result"
    }
   ],
   "source": [
    "df_mysql = pd.read_sql('SELECT TABLENAME, TABLECOUNT , DATA_SIZE_IN_SOURCE_IN_GB , DATA_SIZE_IN_SOURCE_IN_MB , TEXT_FILE_SIZE_IN_GB , TEXT_FILE_SIZE_IN_MB , GZ_FILE_SIZE_IN_GB , GZ_FILE_SIZE_IN_MB , ORC_ZLIB_FILE_SIZE_IN_GB , ORC_ZLIB_FILE_SIZE_IN_MB , ORC_SNAPPY_FILE_SIZE_IN_GB , ORC_SNAPPY_FILE_SIZE_IN_MB , parquet_FILE_SIZE_IN_GB , parquet_FILE_SIZE_IN_MB   , WRITE_TIME_TEXT_SECS , WRITE_TIME_GZ_SECS  , WRITE_TIME_ORC_ZLIB_SECS , WRITE_TIME_ORC_SNAPPY_SECS , WRITE_TIME_PARQUET_SECS  from HADOOP_FILE_FORMAT_LOAD_DETAILS order by tablecount desc;', con=conn)    \n",
    "df_mysql.head(100)\n"
   ]
  },
  {
   "cell_type": "markdown",
   "metadata": {
    "deletable": true,
    "editable": true,
    "slideshow": {
     "slide_type": "slide"
    }
   },
   "source": [
    "# Table Count "
   ]
  },
  {
   "cell_type": "code",
   "execution_count": 4,
   "metadata": {
    "collapsed": false,
    "deletable": true,
    "editable": true,
    "slideshow": {
     "slide_type": "skip"
    }
   },
   "outputs": [
    {
     "data": {
      "application/vnd.plotly.v1+json": {
       "data": [
        {
         "marker": {
          "color": "rgb(49,130,189)"
         },
         "name": "Table Count Graph",
         "type": "bar",
         "x": [
          "Votes",
          "Comments",
          "Posts",
          "Badges",
          "PostHistory",
          "Users",
          "PostLinks",
          "Tags"
         ],
         "y": [
          122641215,
          55852373,
          34857917,
          21882067,
          12670472,
          6833276,
          3993516,
          48373
         ]
        }
       ],
       "layout": {
        "showlegend": true,
        "xaxis": {
         "tickangle": -45
        }
       }
      },
      "text/html": [
       "<div id=\"84f90803-f921-4e03-a871-c1caa404327c\" style=\"height: 525px; width: 100%;\" class=\"plotly-graph-div\"></div><script type=\"text/javascript\">require([\"plotly\"], function(Plotly) { window.PLOTLYENV=window.PLOTLYENV || {};window.PLOTLYENV.BASE_URL=\"https://plot.ly\";Plotly.newPlot(\"84f90803-f921-4e03-a871-c1caa404327c\", [{\"marker\": {\"color\": \"rgb(49,130,189)\"}, \"y\": [122641215, 55852373, 34857917, 21882067, 12670472, 6833276, 3993516, 48373], \"type\": \"bar\", \"name\": \"Table Count Graph\", \"x\": [\"Votes\", \"Comments\", \"Posts\", \"Badges\", \"PostHistory\", \"Users\", \"PostLinks\", \"Tags\"]}], {\"showlegend\": true, \"xaxis\": {\"tickangle\": -45}}, {\"linkText\": \"Export to plot.ly\", \"showLink\": true})});</script>"
      ],
      "text/vnd.plotly.v1+html": [
       "<div id=\"84f90803-f921-4e03-a871-c1caa404327c\" style=\"height: 525px; width: 100%;\" class=\"plotly-graph-div\"></div><script type=\"text/javascript\">require([\"plotly\"], function(Plotly) { window.PLOTLYENV=window.PLOTLYENV || {};window.PLOTLYENV.BASE_URL=\"https://plot.ly\";Plotly.newPlot(\"84f90803-f921-4e03-a871-c1caa404327c\", [{\"marker\": {\"color\": \"rgb(49,130,189)\"}, \"y\": [122641215, 55852373, 34857917, 21882067, 12670472, 6833276, 3993516, 48373], \"type\": \"bar\", \"name\": \"Table Count Graph\", \"x\": [\"Votes\", \"Comments\", \"Posts\", \"Badges\", \"PostHistory\", \"Users\", \"PostLinks\", \"Tags\"]}], {\"showlegend\": true, \"xaxis\": {\"tickangle\": -45}}, {\"linkText\": \"Export to plot.ly\", \"showLink\": true})});</script>"
      ]
     },
     "metadata": {},
     "output_type": "display_data"
    }
   ],
   "source": [
    "trace0 = Bar(\n",
    "        x=df_mysql['TABLENAME'], # assign x as the dataframe column 'x'\n",
    "        y=df_mysql['TABLECOUNT'],\n",
    "        name='Table Count Graph',\n",
    "        marker=dict(\n",
    "        color='rgb(49,130,189)',\n",
    "        )\n",
    "    )\n",
    "data = [trace0]\n",
    "layout = Layout(\n",
    "    xaxis=dict(tickangle=-45),\n",
    "    showlegend=True,\n",
    ")\n",
    "\n",
    "fig = dict( data=data, layout=layout )\n",
    "\n",
    "iplot(fig)\n",
    "\n"
   ]
  },
  {
   "cell_type": "markdown",
   "metadata": {
    "deletable": true,
    "editable": true,
    "slideshow": {
     "slide_type": "slide"
    }
   },
   "source": [
    "# Table Size"
   ]
  },
  {
   "cell_type": "code",
   "execution_count": 5,
   "metadata": {
    "collapsed": false,
    "deletable": true,
    "editable": true,
    "slideshow": {
     "slide_type": "skip"
    }
   },
   "outputs": [
    {
     "data": {
      "application/vnd.plotly.v1+json": {
       "data": [
        {
         "marker": {
          "color": "rgb(244,164,96)"
         },
         "type": "bar",
         "x": [
          "Posts",
          "PostHistory",
          "Comments",
          "Votes",
          "Badges",
          "Users",
          "PostLinks",
          "Tags"
         ],
         "y": [
          41.5,
          8.1571,
          10.4058,
          5.9252,
          1.1683,
          1.1117,
          0.195,
          0.007
         ]
        }
       ],
       "layout": {
        "barmode": "group",
        "title": "Raw Data  Size",
        "xaxis": {
         "title": "Table Name "
        },
        "yaxis": {
         "title": "Table Size In GB "
        }
       }
      },
      "text/html": [
       "<div id=\"fb3cf986-d6f1-4f59-9940-856a597af570\" style=\"height: 525px; width: 100%;\" class=\"plotly-graph-div\"></div><script type=\"text/javascript\">require([\"plotly\"], function(Plotly) { window.PLOTLYENV=window.PLOTLYENV || {};window.PLOTLYENV.BASE_URL=\"https://plot.ly\";Plotly.newPlot(\"fb3cf986-d6f1-4f59-9940-856a597af570\", [{\"marker\": {\"color\": \"rgb(244,164,96)\"}, \"y\": [41.5, 8.1571, 10.4058, 5.9252, 1.1683, 1.1117, 0.195, 0.007], \"type\": \"bar\", \"x\": [\"Posts\", \"PostHistory\", \"Comments\", \"Votes\", \"Badges\", \"Users\", \"PostLinks\", \"Tags\"]}], {\"barmode\": \"group\", \"yaxis\": {\"title\": \"Table Size In GB \"}, \"xaxis\": {\"title\": \"Table Name \"}, \"title\": \"Raw Data  Size\"}, {\"linkText\": \"Export to plot.ly\", \"showLink\": true})});</script>"
      ],
      "text/vnd.plotly.v1+html": [
       "<div id=\"fb3cf986-d6f1-4f59-9940-856a597af570\" style=\"height: 525px; width: 100%;\" class=\"plotly-graph-div\"></div><script type=\"text/javascript\">require([\"plotly\"], function(Plotly) { window.PLOTLYENV=window.PLOTLYENV || {};window.PLOTLYENV.BASE_URL=\"https://plot.ly\";Plotly.newPlot(\"fb3cf986-d6f1-4f59-9940-856a597af570\", [{\"marker\": {\"color\": \"rgb(244,164,96)\"}, \"y\": [41.5, 8.1571, 10.4058, 5.9252, 1.1683, 1.1117, 0.195, 0.007], \"type\": \"bar\", \"x\": [\"Posts\", \"PostHistory\", \"Comments\", \"Votes\", \"Badges\", \"Users\", \"PostLinks\", \"Tags\"]}], {\"barmode\": \"group\", \"yaxis\": {\"title\": \"Table Size In GB \"}, \"xaxis\": {\"title\": \"Table Name \"}, \"title\": \"Raw Data  Size\"}, {\"linkText\": \"Export to plot.ly\", \"showLink\": true})});</script>"
      ]
     },
     "metadata": {},
     "output_type": "display_data"
    }
   ],
   "source": [
    "df_mysql = pd.read_sql('SELECT TABLENAME, TABLECOUNT , DATA_SIZE_IN_SOURCE_IN_GB , DATA_SIZE_IN_SOURCE_IN_MB , TEXT_FILE_SIZE_IN_GB , TEXT_FILE_SIZE_IN_MB , GZ_FILE_SIZE_IN_GB , GZ_FILE_SIZE_IN_MB , ORC_ZLIB_FILE_SIZE_IN_GB , ORC_ZLIB_FILE_SIZE_IN_MB , ORC_SNAPPY_FILE_SIZE_IN_GB , ORC_SNAPPY_FILE_SIZE_IN_MB , parquet_FILE_SIZE_IN_GB , parquet_FILE_SIZE_IN_MB , AVRO_FILE_SIZE_IN_GB , AVRO_FILE_SIZE_IN_MB , WRITE_TIME_TEXT_SECS , WRITE_TIME_GZ_SECS , WRITE_TIME_AVRO_SECS , WRITE_TIME_ORC_ZLIB_SECS , WRITE_TIME_ORC_SNAPPY_SECS , WRITE_TIME_PARQUET_SECS  from HADOOP_FILE_FORMAT_LOAD_DETAILS order by DATA_SIZE_IN_SOURCE_IN_GB desc;', con=conn)    \n",
    "trace1 = Bar(\n",
    "        x=df_mysql['TABLENAME'], # assign x as the dataframe column 'x'\n",
    "        y=df_mysql['TEXT_FILE_SIZE_IN_GB'],\n",
    "\n",
    "     marker=dict(                   \n",
    "            color='rgb(244,164,96)' \n",
    "        )\n",
    ")\n",
    "\n",
    "\n",
    "data = [trace1]\n",
    "layout = Layout(\n",
    "    barmode='group',\n",
    "     title='Raw Data  Size',\n",
    "      xaxis=dict(                \n",
    "        title=\"Table Name \"  ,\n",
    "     \n",
    "    ),\n",
    "       yaxis=dict(                \n",
    "        title=\"Table Size In GB \"  \n",
    "    )\n",
    ")\n",
    "\n",
    "fig = dict(data=data, layout=layout)\n",
    "iplot(fig)"
   ]
  },
  {
   "cell_type": "markdown",
   "metadata": {
    "deletable": true,
    "editable": true,
    "slideshow": {
     "slide_type": "slide"
    }
   },
   "source": [
    "# Overall Size Compression Graph"
   ]
  },
  {
   "cell_type": "code",
   "execution_count": 6,
   "metadata": {
    "collapsed": false,
    "deletable": true,
    "editable": true,
    "slideshow": {
     "slide_type": "skip"
    }
   },
   "outputs": [
    {
     "data": {
      "application/vnd.plotly.v1+json": {
       "data": [
        {
         "marker": {
          "color": [
           "rgb(244,164,96)",
           "rgb(26, 118, 255)",
           "rgb(46,139,87)",
           "rgb(255,165,0)",
           "rgb(0,116,217)"
          ]
         },
         "type": "bar",
         "x": [
          "TEXT_FORMAT",
          "GZ_FORMAT",
          "ORC_ZLIB_FORMAT",
          "ORC_SNAPPY_FORMAT",
          "PARQUET_FORMAT"
         ],
         "y": [
          68.4701,
          20.70527,
          21.16491,
          29.80544,
          31.35256
         ]
        }
       ],
       "layout": {
        "title": "File Size Comparsion",
        "xaxis": {
         "title": "File Format "
        },
        "yaxis": {
         "title": "File Size In GB "
        }
       }
      },
      "text/html": [
       "<div id=\"ba85a860-d5f3-4d99-8ad7-d9e3cc9ac519\" style=\"height: 525px; width: 100%;\" class=\"plotly-graph-div\"></div><script type=\"text/javascript\">require([\"plotly\"], function(Plotly) { window.PLOTLYENV=window.PLOTLYENV || {};window.PLOTLYENV.BASE_URL=\"https://plot.ly\";Plotly.newPlot(\"ba85a860-d5f3-4d99-8ad7-d9e3cc9ac519\", [{\"marker\": {\"color\": [\"rgb(244,164,96)\", \"rgb(26, 118, 255)\", \"rgb(46,139,87)\", \"rgb(255,165,0)\", \"rgb(0,116,217)\"]}, \"y\": [68.4701, 20.70527, 21.16491, 29.80544, 31.35256], \"type\": \"bar\", \"x\": [\"TEXT_FORMAT\", \"GZ_FORMAT\", \"ORC_ZLIB_FORMAT\", \"ORC_SNAPPY_FORMAT\", \"PARQUET_FORMAT\"]}], {\"yaxis\": {\"title\": \"File Size In GB \"}, \"xaxis\": {\"title\": \"File Format \"}, \"title\": \"File Size Comparsion\"}, {\"linkText\": \"Export to plot.ly\", \"showLink\": true})});</script>"
      ],
      "text/vnd.plotly.v1+html": [
       "<div id=\"ba85a860-d5f3-4d99-8ad7-d9e3cc9ac519\" style=\"height: 525px; width: 100%;\" class=\"plotly-graph-div\"></div><script type=\"text/javascript\">require([\"plotly\"], function(Plotly) { window.PLOTLYENV=window.PLOTLYENV || {};window.PLOTLYENV.BASE_URL=\"https://plot.ly\";Plotly.newPlot(\"ba85a860-d5f3-4d99-8ad7-d9e3cc9ac519\", [{\"marker\": {\"color\": [\"rgb(244,164,96)\", \"rgb(26, 118, 255)\", \"rgb(46,139,87)\", \"rgb(255,165,0)\", \"rgb(0,116,217)\"]}, \"y\": [68.4701, 20.70527, 21.16491, 29.80544, 31.35256], \"type\": \"bar\", \"x\": [\"TEXT_FORMAT\", \"GZ_FORMAT\", \"ORC_ZLIB_FORMAT\", \"ORC_SNAPPY_FORMAT\", \"PARQUET_FORMAT\"]}], {\"yaxis\": {\"title\": \"File Size In GB \"}, \"xaxis\": {\"title\": \"File Format \"}, \"title\": \"File Size Comparsion\"}, {\"linkText\": \"Export to plot.ly\", \"showLink\": true})});</script>"
      ]
     },
     "metadata": {},
     "output_type": "display_data"
    }
   ],
   "source": [
    "trace1 = Bar(\n",
    "    x=['TEXT_FORMAT' ,'GZ_FORMAT','ORC_ZLIB_FORMAT','ORC_SNAPPY_FORMAT','PARQUET_FORMAT'],\n",
    "    y=[68.47010,20.70527,21.16491,29.80544,31.35256],\n",
    "  \n",
    "     marker=dict(                   \n",
    "            color=['rgb(244,164,96)','rgb(26, 118, 255)','rgb(46,139,87)','rgb(255,165,0)','rgb(0,116,217)']     \n",
    "        )\n",
    ")\n",
    "\n",
    "\n",
    "data = [trace1]\n",
    "layout = Layout(\n",
    "    title='File Size Comparsion',\n",
    "    \n",
    "      xaxis=dict(                \n",
    "        title=\"File Format \"  ,\n",
    "     \n",
    "    ),\n",
    "       yaxis=dict(                \n",
    "        title=\"File Size In GB \"  \n",
    "    )\n",
    ")\n",
    "\n",
    "fig = dict(data=data, layout=layout)\n",
    "iplot(fig)\n",
    "\n",
    "\n",
    "\n"
   ]
  },
  {
   "cell_type": "markdown",
   "metadata": {
    "deletable": true,
    "editable": true,
    "slideshow": {
     "slide_type": "slide"
    }
   },
   "source": [
    "# Write Time Analysis For Different File Format Per Table"
   ]
  },
  {
   "cell_type": "code",
   "execution_count": 7,
   "metadata": {
    "collapsed": false,
    "deletable": true,
    "editable": true,
    "slideshow": {
     "slide_type": "skip"
    }
   },
   "outputs": [
    {
     "data": {
      "application/vnd.plotly.v1+json": {
       "data": [
        {
         "marker": {
          "color": [
           "rgb(244,164,96)",
           "rgb(26, 118, 255)",
           "rgb(46,139,87)",
           "rgb(255,165,0)",
           "rgb(0,116,217)"
          ]
         },
         "type": "scatter",
         "x": [
          "TEXT_FORMAT",
          "GZ_FORMAT",
          "ORC_ZLIB_FORMAT",
          "ORC_SNAPPY_FORMAT",
          "PARQUET_FORMAT"
         ],
         "y": [
          2423.28,
          2810.13,
          8015.41,
          7590.41,
          5606.36
         ]
        }
       ],
       "layout": {
        "title": "Write Time Comparsion",
        "xaxis": {
         "title": "File Format "
        },
        "yaxis": {
         "title": "Write Time In Secs"
        }
       }
      },
      "text/html": [
       "<div id=\"8f3ec43a-dd91-49d0-b72c-3bdf1f762118\" style=\"height: 525px; width: 100%;\" class=\"plotly-graph-div\"></div><script type=\"text/javascript\">require([\"plotly\"], function(Plotly) { window.PLOTLYENV=window.PLOTLYENV || {};window.PLOTLYENV.BASE_URL=\"https://plot.ly\";Plotly.newPlot(\"8f3ec43a-dd91-49d0-b72c-3bdf1f762118\", [{\"marker\": {\"color\": [\"rgb(244,164,96)\", \"rgb(26, 118, 255)\", \"rgb(46,139,87)\", \"rgb(255,165,0)\", \"rgb(0,116,217)\"]}, \"y\": [2423.28, 2810.13, 8015.41, 7590.41, 5606.36], \"type\": \"scatter\", \"x\": [\"TEXT_FORMAT\", \"GZ_FORMAT\", \"ORC_ZLIB_FORMAT\", \"ORC_SNAPPY_FORMAT\", \"PARQUET_FORMAT\"]}], {\"yaxis\": {\"title\": \"Write Time In Secs\"}, \"xaxis\": {\"title\": \"File Format \"}, \"title\": \"Write Time Comparsion\"}, {\"linkText\": \"Export to plot.ly\", \"showLink\": true})});</script>"
      ],
      "text/vnd.plotly.v1+html": [
       "<div id=\"8f3ec43a-dd91-49d0-b72c-3bdf1f762118\" style=\"height: 525px; width: 100%;\" class=\"plotly-graph-div\"></div><script type=\"text/javascript\">require([\"plotly\"], function(Plotly) { window.PLOTLYENV=window.PLOTLYENV || {};window.PLOTLYENV.BASE_URL=\"https://plot.ly\";Plotly.newPlot(\"8f3ec43a-dd91-49d0-b72c-3bdf1f762118\", [{\"marker\": {\"color\": [\"rgb(244,164,96)\", \"rgb(26, 118, 255)\", \"rgb(46,139,87)\", \"rgb(255,165,0)\", \"rgb(0,116,217)\"]}, \"y\": [2423.28, 2810.13, 8015.41, 7590.41, 5606.36], \"type\": \"scatter\", \"x\": [\"TEXT_FORMAT\", \"GZ_FORMAT\", \"ORC_ZLIB_FORMAT\", \"ORC_SNAPPY_FORMAT\", \"PARQUET_FORMAT\"]}], {\"yaxis\": {\"title\": \"Write Time In Secs\"}, \"xaxis\": {\"title\": \"File Format \"}, \"title\": \"Write Time Comparsion\"}, {\"linkText\": \"Export to plot.ly\", \"showLink\": true})});</script>"
      ]
     },
     "metadata": {},
     "output_type": "display_data"
    }
   ],
   "source": [
    "\n",
    "\n",
    "trace1 = Scatter(\n",
    "    x=['TEXT_FORMAT','GZ_FORMAT','ORC_ZLIB_FORMAT','ORC_SNAPPY_FORMAT','PARQUET_FORMAT'],\n",
    "    y=[2423.28,2810.13,8015.41,7590.41,5606.36],\n",
    "  \n",
    "     marker=dict(                   \n",
    "            color=['rgb(244,164,96)','rgb(26, 118, 255)','rgb(46,139,87)','rgb(255,165,0)','rgb(0,116,217)']     \n",
    "        )\n",
    ")\n",
    "\n",
    "\n",
    "data = [trace1]\n",
    "layout = Layout(\n",
    "    title='Write Time Comparsion',\n",
    "    \n",
    "      xaxis=dict(                \n",
    "        title=\"File Format \"  ,\n",
    "     \n",
    "    ),\n",
    "       yaxis=dict(                \n",
    "        title=\"Write Time In Secs\"  \n",
    "    )\n",
    ")\n",
    "\n",
    "fig = dict(data=data, layout=layout)\n",
    "iplot(fig)"
   ]
  },
  {
   "cell_type": "markdown",
   "metadata": {
    "deletable": true,
    "editable": true,
    "slideshow": {
     "slide_type": "slide"
    }
   },
   "source": [
    "# File Size Analysis For Different File Format Per Table"
   ]
  },
  {
   "cell_type": "code",
   "execution_count": 8,
   "metadata": {
    "collapsed": false,
    "deletable": true,
    "editable": true,
    "slideshow": {
     "slide_type": "skip"
    }
   },
   "outputs": [
    {
     "data": {
      "text/html": [
       "<iframe src=\"https://exploratory.io/viz/9146159920859757/1536117658149362?cb=1492181613070&embed=true\" width=\"1200\" height=\"600\" frameborder=\"0\"></iframe>"
      ],
      "text/plain": [
       "<IPython.core.display.HTML object>"
      ]
     },
     "metadata": {},
     "output_type": "display_data"
    }
   ],
   "source": [
    "%%html\n",
    "<iframe src=\"https://exploratory.io/viz/9146159920859757/1536117658149362?cb=1492181613070&embed=true\" width=\"1200\" height=\"600\" frameborder=\"0\"></iframe>"
   ]
  },
  {
   "cell_type": "markdown",
   "metadata": {
    "deletable": true,
    "editable": true,
    "slideshow": {
     "slide_type": "slide"
    }
   },
   "source": [
    "# Write Time Analysis For Different File Format Per Table"
   ]
  },
  {
   "cell_type": "code",
   "execution_count": 9,
   "metadata": {
    "collapsed": false,
    "deletable": true,
    "editable": true,
    "slideshow": {
     "slide_type": "skip"
    }
   },
   "outputs": [
    {
     "data": {
      "text/html": [
       "<iframe src=\"https://exploratory.io/viz/9146159920859757/2755953071940697?cb=1492181394237&embed=true\" width=\"1200\" height=\"600\" frameborder=\"0\"></iframe>"
      ],
      "text/plain": [
       "<IPython.core.display.HTML object>"
      ]
     },
     "metadata": {},
     "output_type": "display_data"
    }
   ],
   "source": [
    "%%html\n",
    "<iframe src=\"https://exploratory.io/viz/9146159920859757/2755953071940697?cb=1492181394237&embed=true\" width=\"1200\" height=\"600\" frameborder=\"0\"></iframe>"
   ]
  },
  {
   "cell_type": "markdown",
   "metadata": {
    "deletable": true,
    "editable": true
   },
   "source": [
    "# Table Size Analysis For Table Having No TimeStamp/Date Field DataType (ORC VS PARQUET"
   ]
  },
  {
   "cell_type": "code",
   "execution_count": 10,
   "metadata": {
    "collapsed": false,
    "deletable": true,
    "editable": true,
    "slideshow": {
     "slide_type": "skip"
    }
   },
   "outputs": [
    {
     "data": {
      "text/html": [
       "<iframe src=\"https://exploratory.io/viz/9146159920859757/2507963290109907?cb=1492185409074&embed=true\" width=\"1200\" height=\"600\" frameborder=\"0\"></iframe>"
      ],
      "text/plain": [
       "<IPython.core.display.HTML object>"
      ]
     },
     "metadata": {},
     "output_type": "display_data"
    }
   ],
   "source": [
    "%%html\n",
    "<iframe src=\"https://exploratory.io/viz/9146159920859757/2507963290109907?cb=1492185409074&embed=true\" width=\"1200\" height=\"600\" frameborder=\"0\"></iframe>"
   ]
  },
  {
   "cell_type": "markdown",
   "metadata": {
    "deletable": true,
    "editable": true
   },
   "source": [
    "# Write Time Analysis For Table Having No TimeStamp/Date Field DataType (ORC VS PARQUET"
   ]
  },
  {
   "cell_type": "code",
   "execution_count": 11,
   "metadata": {
    "collapsed": false,
    "deletable": true,
    "editable": true
   },
   "outputs": [
    {
     "data": {
      "text/html": [
       "<iframe src=\"https://exploratory.io/viz/9146159920859757/5041706753409127?cb=1492224284126&embed=true\" width=\"1200\" height=\"600\" frameborder=\"0\"></iframe>"
      ],
      "text/plain": [
       "<IPython.core.display.HTML object>"
      ]
     },
     "metadata": {},
     "output_type": "display_data"
    }
   ],
   "source": [
    "%%html\n",
    "<iframe src=\"https://exploratory.io/viz/9146159920859757/5041706753409127?cb=1492224284126&embed=true\" width=\"1200\" height=\"600\" frameborder=\"0\"></iframe>"
   ]
  },
  {
   "cell_type": "code",
   "execution_count": null,
   "metadata": {
    "collapsed": false,
    "deletable": true,
    "editable": true
   },
   "outputs": [],
   "source": []
  }
 ],
 "metadata": {
  "celltoolbar": "Slideshow",
  "kernelspec": {
   "display_name": "Python 2",
   "language": "python",
   "name": "python2"
  },
  "language_info": {
   "codemirror_mode": {
    "name": "ipython",
    "version": 2
   },
   "file_extension": ".py",
   "mimetype": "text/x-python",
   "name": "python",
   "nbconvert_exporter": "python",
   "pygments_lexer": "ipython2",
   "version": "2.7.10"
  }
 },
 "nbformat": 4,
 "nbformat_minor": 2
}
